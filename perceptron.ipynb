{
  "nbformat": 4,
  "nbformat_minor": 0,
  "metadata": {
    "colab": {
      "name": "perceptron.ipynb",
      "provenance": [],
      "authorship_tag": "ABX9TyP1R4dgP3pE39U1uO9m6jft",
      "include_colab_link": true
    },
    "kernelspec": {
      "name": "python3",
      "display_name": "Python 3"
    }
  },
  "cells": [
    {
      "cell_type": "markdown",
      "metadata": {
        "id": "view-in-github",
        "colab_type": "text"
      },
      "source": [
        "<a href=\"https://colab.research.google.com/github/Lucifer-22/Perceptron/blob/master/perceptron.ipynb\" target=\"_parent\"><img src=\"https://colab.research.google.com/assets/colab-badge.svg\" alt=\"Open In Colab\"/></a>"
      ]
    },
    {
      "cell_type": "code",
      "metadata": {
        "id": "RiLAnO-h749t",
        "colab_type": "code",
        "colab": {
          "base_uri": "https://localhost:8080/",
          "height": 153
        },
        "outputId": "894ad6db-e2f4-4fa6-f359-268e139ad5ed"
      },
      "source": [
        "from matplotlib import pyplot as plt\n",
        "import numpy as np\n",
        "\n",
        "#                x1, x2, x3, t\n",
        "data = np.array([[1, 0, 1, -1],\n",
        "                [0, -1, -1, 1],\n",
        "                [-1, -0.5, -1, 1]])\n",
        "\n",
        "eta = 0.1\n",
        "weight = np.array([1, -1, 0])\n",
        "\n",
        "print(\"Data: \", data, \"\\n\", data.shape)\n",
        "print(\"Eta: \", eta, \"\\n\")\n",
        "print(\"Weight: \", weight, \"\\n\")\n"
      ],
      "execution_count": 15,
      "outputs": [
        {
          "output_type": "stream",
          "text": [
            "Data:  [[ 1.   0.   1.  -1. ]\n",
            " [ 0.  -1.  -1.   1. ]\n",
            " [-1.  -0.5 -1.   1. ]] \n",
            " (3, 4)\n",
            "Eta:  0.1 \n",
            "\n",
            "Weight:  [ 1 -1  0] \n",
            "\n"
          ],
          "name": "stdout"
        }
      ]
    },
    {
      "cell_type": "markdown",
      "metadata": {
        "id": "hsuQEkMn8xm4",
        "colab_type": "text"
      },
      "source": [
        "# New Section"
      ]
    },
    {
      "cell_type": "code",
      "metadata": {
        "id": "gpjvRXZLAfDf",
        "colab_type": "code",
        "colab": {
          "base_uri": "https://localhost:8080/",
          "height": 119
        },
        "outputId": "b6c6955d-120b-41d2-a67c-4c3ee3a3c885"
      },
      "source": [
        "x1 = data[:, 0]\n",
        "x2 = data[:, 1]\n",
        "x3 = data[:, 2]\n",
        "xtrain = np.array([x1, x2, x3])\n",
        "print(\"Xtrain \", xtrain, \"\\n\")\n",
        "target = data[:, 3]\n",
        "row = xtrain.shape[0]\n",
        "col = xtrain.shape[1]\n",
        "print(target)\n",
        "print(row, col)"
      ],
      "execution_count": 16,
      "outputs": [
        {
          "output_type": "stream",
          "text": [
            "Xtrain  [[ 1.   0.  -1. ]\n",
            " [ 0.  -1.  -0.5]\n",
            " [ 1.  -1.  -1. ]] \n",
            "\n",
            "[-1.  1.  1.]\n",
            "3 3\n"
          ],
          "name": "stdout"
        }
      ]
    },
    {
      "cell_type": "markdown",
      "metadata": {
        "id": "HDKe9GxfAi6G",
        "colab_type": "text"
      },
      "source": [
        "# New Section"
      ]
    },
    {
      "cell_type": "code",
      "metadata": {
        "id": "vaIJr3JyAlWK",
        "colab_type": "code",
        "colab": {
          "base_uri": "https://localhost:8080/",
          "height": 850
        },
        "outputId": "736e0db4-c38f-407c-ebeb-943ce9871985"
      },
      "source": [
        "count = 0\n",
        "i = 0\n",
        "y = np.zeros((row, 1))\n",
        "\n",
        "while ~((target[0] == y[0]) and (target[1] == y[1]) and (target[2] == y[2])):\n",
        "  weight_old = weight\n",
        "  \n",
        "  if (i == 3):\n",
        "    i = 0\n",
        "\n",
        "  y[i] =  np.sign(np.matmul(weight, xtrain[:, i]))\n",
        "  r = target[i] - y[i]\n",
        "  print(f'y({i}) - target({i}) = {r}')\n",
        "  if (y[i] != target[i]):\n",
        "    print(\"Updating Weight: \")\n",
        "    temp = eta *(target[i] - y[i]) * xtrain[:, i]\n",
        "    weight_new = weight + temp\n",
        "    weight = weight_new\n",
        "  else:\n",
        "    print(\"No change in Weight\")\n",
        "  \n",
        "  print(\"The Old weight was: \", weight_old)  \n",
        "  print(\"The Weight is: \", weight, \"\\n\")\n",
        "\n",
        "  count = count + 1\n",
        "  i = i + 1\n",
        "  print(\"Counter: \", count, \"\\n\")"
      ],
      "execution_count": 17,
      "outputs": [
        {
          "output_type": "stream",
          "text": [
            "y(0) - target(0) = [-2.]\n",
            "Updating Weight: \n",
            "The Old weight was:  [ 1 -1  0]\n",
            "The Weight is:  [ 0.8 -1.  -0.2] \n",
            "\n",
            "Counter:  1 \n",
            "\n",
            "y(1) - target(1) = [0.]\n",
            "No change in Weight\n",
            "The Old weight was:  [ 0.8 -1.  -0.2]\n",
            "The Weight is:  [ 0.8 -1.  -0.2] \n",
            "\n",
            "Counter:  2 \n",
            "\n",
            "y(2) - target(2) = [2.]\n",
            "Updating Weight: \n",
            "The Old weight was:  [ 0.8 -1.  -0.2]\n",
            "The Weight is:  [ 0.6 -1.1 -0.4] \n",
            "\n",
            "Counter:  3 \n",
            "\n",
            "y(0) - target(0) = [-2.]\n",
            "Updating Weight: \n",
            "The Old weight was:  [ 0.6 -1.1 -0.4]\n",
            "The Weight is:  [ 0.4 -1.1 -0.6] \n",
            "\n",
            "Counter:  4 \n",
            "\n",
            "y(1) - target(1) = [0.]\n",
            "No change in Weight\n",
            "The Old weight was:  [ 0.4 -1.1 -0.6]\n",
            "The Weight is:  [ 0.4 -1.1 -0.6] \n",
            "\n",
            "Counter:  5 \n",
            "\n",
            "y(2) - target(2) = [0.]\n",
            "No change in Weight\n",
            "The Old weight was:  [ 0.4 -1.1 -0.6]\n",
            "The Weight is:  [ 0.4 -1.1 -0.6] \n",
            "\n",
            "Counter:  6 \n",
            "\n",
            "y(0) - target(0) = [0.]\n",
            "No change in Weight\n",
            "The Old weight was:  [ 0.4 -1.1 -0.6]\n",
            "The Weight is:  [ 0.4 -1.1 -0.6] \n",
            "\n",
            "Counter:  7 \n",
            "\n"
          ],
          "name": "stdout"
        }
      ]
    },
    {
      "cell_type": "code",
      "metadata": {
        "id": "99IParHBM_GI",
        "colab_type": "code",
        "colab": {
          "base_uri": "https://localhost:8080/",
          "height": 68
        },
        "outputId": "051c5c11-961a-40d4-9136-d624a7c17886"
      },
      "source": [
        "  print(\"\\n\", \"The final weight is: \", weight)\n",
        "  print(\"The counter is:\", count)  \n"
      ],
      "execution_count": 18,
      "outputs": [
        {
          "output_type": "stream",
          "text": [
            "\n",
            " The final weight is:  [ 0.4 -1.1 -0.6]\n",
            "The counter is: 7\n"
          ],
          "name": "stdout"
        }
      ]
    }
  ]
}